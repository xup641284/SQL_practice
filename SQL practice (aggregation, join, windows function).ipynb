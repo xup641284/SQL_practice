{
 "cells": [
  {
   "cell_type": "markdown",
   "metadata": {},
   "source": [
    "# Crypto currency"
   ]
  },
  {
   "cell_type": "code",
   "execution_count": 1,
   "metadata": {},
   "outputs": [
    {
     "data": {
      "text/plain": [
       "'https://dbfiddle.uk/6ZkdPaAk'"
      ]
     },
     "execution_count": 1,
     "metadata": {},
     "output_type": "execute_result"
    }
   ],
   "source": [
    "# SQL net balance\n",
    "'https://dbfiddle.uk/6ZkdPaAk'\n",
    "# SELECT t.user, SUM(t.net_amount) AS net_balance\n",
    "# FROM (\n",
    "#     SELECT receiver AS user, amount AS net_amount FROM bitcoin_transactions\n",
    "#     UNION ALL\n",
    "#     SELECT sender AS user, -amount AS net_amount FROM bitcoin_transactions\n",
    "# ) AS t\n",
    "# GROUP BY t.user\n",
    "# Order BY net_balance desc;"
   ]
  },
  {
   "cell_type": "code",
   "execution_count": 2,
   "metadata": {},
   "outputs": [
    {
     "data": {
      "text/plain": [
       "'https://dbfiddle.uk/vSuSMVpV'"
      ]
     },
     "execution_count": 2,
     "metadata": {},
     "output_type": "execute_result"
    }
   ],
   "source": [
    "# SQL currency exchange with processed fee\n",
    "'https://dbfiddle.uk/vSuSMVpV'\n",
    "# SELECT \n",
    "#     c.*,\n",
    "#     t.amount AS original_amount,\n",
    "#     (t.amount * c.exchange_rate) - c.processed_fee AS net_amount\n",
    "# FROM \n",
    "#     currency_exchange as c\n",
    "# join transactions as t\n",
    "#   on c.from_currency = t.from_currency and c.exchange_id = t.transaction_id\n",
    "#   order by exchange_id;\n"
   ]
  },
  {
   "cell_type": "code",
   "execution_count": 3,
   "metadata": {},
   "outputs": [
    {
     "data": {
      "text/plain": [
       "'https://dbfiddle.uk/XoojiXtw'"
      ]
     },
     "execution_count": 3,
     "metadata": {},
     "output_type": "execute_result"
    }
   ],
   "source": [
    "# SQL order sum running total partition by customer_id\n",
    "'https://dbfiddle.uk/XoojiXtw'\n",
    "# SELECT\n",
    "#     customer_id,\n",
    "#     order_date,\n",
    "#     order_amount,\n",
    "#     sum(order_amount) over \n",
    "#     (partition by customer_id order by customer_id, order_date, order_amount) as total\n",
    "# FROM\n",
    "#     sales\n"
   ]
  },
  {
   "cell_type": "code",
   "execution_count": 4,
   "metadata": {},
   "outputs": [
    {
     "data": {
      "text/plain": [
       "'https://dbfiddle.uk/uxkcNK_c'"
      ]
     },
     "execution_count": 4,
     "metadata": {},
     "output_type": "execute_result"
    }
   ],
   "source": [
    "# SQL order sum partition by customer\n",
    "'https://dbfiddle.uk/uxkcNK_c'\n",
    "# SELECT\n",
    "#     distinct(customer_id),\n",
    "#     sum(order_amount) over (partition by customer_id)\n",
    "# FROM\n",
    "#     sales\n",
    "# where date_part('month', sales.order_date) = 7\n",
    "# order by customer_id"
   ]
  },
  {
   "cell_type": "markdown",
   "metadata": {},
   "source": [
    "# Transaction "
   ]
  },
  {
   "cell_type": "code",
   "execution_count": 5,
   "metadata": {},
   "outputs": [],
   "source": [
    "# transactions table for a single year with the amount indicating the debit transaction if the value is negative or credit transaction values are positive. \n",
    "# Now in a given month if the number of debit records is less than 3 or if the sum of debits for a month is less than 100 then \n",
    "# I want to charge a fee of 5."
   ]
  },
  {
   "cell_type": "code",
   "execution_count": 6,
   "metadata": {},
   "outputs": [
    {
     "data": {
      "text/plain": [
       "'https://dbfiddle.uk/_z3_PuGh'"
      ]
     },
     "execution_count": 6,
     "metadata": {},
     "output_type": "execute_result"
    }
   ],
   "source": [
    "'https://dbfiddle.uk/_z3_PuGh'\n",
    "\n",
    "# SELECT DISTINCT SUM(\n",
    "#          COALESCE(SUM(t.Amount), 0) -\n",
    "#          CASE \n",
    "#            WHEN SUM((t.Amount < 0)::int) < 3 \n",
    "#              OR SUM(CASE WHEN t.Amount < 0 THEN -t.Amount ELSE 0 END) < 100 THEN 5 \n",
    "#            ELSE 0  \n",
    "#          END\n",
    "#        ) OVER () total\n",
    "# FROM generate_series(1, 12, 1) m(month) LEFT JOIN transactions t \n",
    "# ON m.month = date_part('month', t.date) AND date_part('year', t.date) = 2020\n",
    "# GROUP BY m.month"
   ]
  },
  {
   "cell_type": "code",
   "execution_count": 7,
   "metadata": {},
   "outputs": [
    {
     "data": {
      "text/plain": [
       "'https://dbfiddle.uk/OuTlQH9m'"
      ]
     },
     "execution_count": 7,
     "metadata": {},
     "output_type": "execute_result"
    }
   ],
   "source": [
    "'https://dbfiddle.uk/OuTlQH9m'\n",
    "# select distinct sum(\n",
    "#   coalesce(sum(t.amount), 0) - \n",
    "#   case when count(t.amount < 0)::int < 3 or\n",
    "#   sum(case when t.amount < 0 then -t.amount else 0 end) < 100 then 5 \n",
    "#   else 0\n",
    "#   end\n",
    "# ) over () total\n",
    "# from generate_series(1, 12, 1) as m(month) left join transactions as t\n",
    "# on m.month = date_part('month', t.date) and date_part('year', t.date) = 2020\n",
    "# group by m.month"
   ]
  },
  {
   "cell_type": "markdown",
   "metadata": {},
   "source": [
    "# Extension: Sum for each month of transactions"
   ]
  },
  {
   "cell_type": "code",
   "execution_count": 9,
   "metadata": {},
   "outputs": [
    {
     "data": {
      "text/plain": [
       "'https://dbfiddle.uk/WPSGQcEh'"
      ]
     },
     "execution_count": 9,
     "metadata": {},
     "output_type": "execute_result"
    }
   ],
   "source": [
    "'https://dbfiddle.uk/WPSGQcEh'\n",
    "\n",
    "# WITH cte AS (\n",
    "#    SELECT date_trunc('month', date) AS mon, sum(amount) AS mon_sum\n",
    "#    FROM   transactions\n",
    "#    GROUP  BY 1\n",
    "#    )\n",
    "# SELECT to_char(mon, 'Mon YYYY') AS mon_text\n",
    "#      , COALESCE(sum(c.mon_sum) OVER (PARTITION BY mon ORDER BY mon), 0) AS sum_permonth\n",
    "# FROM   generate_series('2020-01-01'::date, '2020-12-31', interval '1 month') mon\n",
    "# LEFT   JOIN cte c USING (mon)\n",
    "# ORDER  BY mon;"
   ]
  },
  {
   "cell_type": "code",
   "execution_count": null,
   "metadata": {},
   "outputs": [],
   "source": []
  }
 ],
 "metadata": {
  "kernelspec": {
   "display_name": "Python 3 (ipykernel)",
   "language": "python",
   "name": "python3"
  },
  "language_info": {
   "codemirror_mode": {
    "name": "ipython",
    "version": 3
   },
   "file_extension": ".py",
   "mimetype": "text/x-python",
   "name": "python",
   "nbconvert_exporter": "python",
   "pygments_lexer": "ipython3",
   "version": "3.11.4"
  }
 },
 "nbformat": 4,
 "nbformat_minor": 2
}
